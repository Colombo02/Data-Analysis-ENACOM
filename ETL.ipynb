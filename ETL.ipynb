{
 "cells": [
  {
   "cell_type": "code",
   "execution_count": 1,
   "metadata": {},
   "outputs": [],
   "source": [
    "import pandas as pd\n",
    "import numpy as np"
   ]
  },
  {
   "cell_type": "code",
   "execution_count": 2,
   "metadata": {},
   "outputs": [],
   "source": [
    "pd.set_option('display.max_columns', None)\n",
    "pd.set_option('display.max_rows',None)"
   ]
  },
  {
   "cell_type": "markdown",
   "metadata": {},
   "source": [
    "## ETL"
   ]
  },
  {
   "cell_type": "markdown",
   "metadata": {},
   "source": [
    "## Penetracion de Internet en todas las provincias"
   ]
  },
  {
   "cell_type": "code",
   "execution_count": 3,
   "metadata": {},
   "outputs": [],
   "source": [
    "penet_por_hogar = pd.read_csv(\"datasets/Internet_Penetracion.csv\")"
   ]
  },
  {
   "cell_type": "markdown",
   "metadata": {},
   "source": [
    "## Internet fijo por Banda Ancha y Banda Angosta"
   ]
  },
  {
   "cell_type": "code",
   "execution_count": 4,
   "metadata": {},
   "outputs": [],
   "source": [
    "bandas_prov = pd.read_csv(\"datasets/Internet_BAF.csv\")"
   ]
  },
  {
   "cell_type": "markdown",
   "metadata": {},
   "source": [
    "**Hacemos un merge para unir ambos datasets y trabajarlos juntos.**"
   ]
  },
  {
   "cell_type": "code",
   "execution_count": 5,
   "metadata": {},
   "outputs": [],
   "source": [
    "if_prov = pd.merge(penet_por_hogar, bandas_prov, on=['Provincia', 'Año', 'Trimestre'], how='left')"
   ]
  },
  {
   "cell_type": "markdown",
   "metadata": {},
   "source": [
    "## Rangos de Velocidad"
   ]
  },
  {
   "cell_type": "code",
   "execution_count": 6,
   "metadata": {},
   "outputs": [],
   "source": [
    "rangobaj_prov = pd.read_csv(\"datasets/Internet_Accesos-por-velocidad.csv\")"
   ]
  },
  {
   "cell_type": "code",
   "execution_count": 7,
   "metadata": {},
   "outputs": [
    {
     "name": "stdout",
     "output_type": "stream",
     "text": [
      "<class 'pandas.core.frame.DataFrame'>\n",
      "RangeIndex: 840 entries, 0 to 839\n",
      "Data columns (total 12 columns):\n",
      " #   Column               Non-Null Count  Dtype  \n",
      "---  ------               --------------  -----  \n",
      " 0   Año                  840 non-null    int64  \n",
      " 1   Trimestre            840 non-null    int64  \n",
      " 2   Provincia            840 non-null    object \n",
      " 3   HASTA 512 kbps       840 non-null    float64\n",
      " 4   + 512 Kbps - 1 Mbps  840 non-null    float64\n",
      " 5   + 1 Mbps - 6 Mbps    840 non-null    object \n",
      " 6   + 6 Mbps - 10 Mbps   840 non-null    float64\n",
      " 7   + 10 Mbps - 20 Mbps  840 non-null    float64\n",
      " 8   + 20 Mbps - 30 Mbps  840 non-null    float64\n",
      " 9   + 30 Mbps            840 non-null    object \n",
      " 10  OTROS                834 non-null    float64\n",
      " 11  Total                840 non-null    object \n",
      "dtypes: float64(6), int64(2), object(4)\n",
      "memory usage: 78.9+ KB\n"
     ]
    }
   ],
   "source": [
    "rangobaj_prov.info()"
   ]
  },
  {
   "cell_type": "markdown",
   "metadata": {},
   "source": [
    "**Realizamos cambios en los tipos de datos de las columnas, ya que venian con un formato diferente al que queremos**"
   ]
  },
  {
   "cell_type": "code",
   "execution_count": 8,
   "metadata": {},
   "outputs": [],
   "source": [
    "\n",
    "rangobaj_prov['+ 30 Mbps'] = rangobaj_prov['+ 30 Mbps'].str.replace('.', '').astype('int')\n",
    "rangobaj_prov['+ 1 Mbps - 6 Mbps'] = rangobaj_prov['+ 1 Mbps - 6 Mbps'].str.replace('.', '').astype('int')\n",
    "rangobaj_prov['HASTA 512 kbps'] = rangobaj_prov['HASTA 512 kbps'].astype('str').str.replace('.', '').astype('int')\n",
    "rangobaj_prov['+ 512 Kbps - 1 Mbps'] = rangobaj_prov['+ 512 Kbps - 1 Mbps'].astype('str').str.replace('.', '').astype('int')\n",
    "rangobaj_prov['+ 6 Mbps - 10 Mbps'] = rangobaj_prov['+ 6 Mbps - 10 Mbps'].astype('str').str.replace('.', '').astype('int')\n",
    "rangobaj_prov['+ 10 Mbps - 20 Mbps'] = rangobaj_prov['+ 10 Mbps - 20 Mbps'].astype('str').str.replace('.', '').astype('int')\n",
    "rangobaj_prov['+ 20 Mbps - 30 Mbps'] = rangobaj_prov['+ 20 Mbps - 30 Mbps'].astype('str').str.replace('.', '').astype('int')\n",
    "rangobaj_prov['OTROS'] = rangobaj_prov['OTROS'].fillna(0)\n",
    "rangobaj_prov['OTROS'] = rangobaj_prov['OTROS'].astype('str').str.replace('.', '').astype('int')"
   ]
  },
  {
   "cell_type": "markdown",
   "metadata": {},
   "source": [
    "**Unimos los datasets para seguir trabajandolos juntos.**"
   ]
  },
  {
   "cell_type": "code",
   "execution_count": 9,
   "metadata": {},
   "outputs": [],
   "source": [
    "if_prov = pd.merge(if_prov, rangobaj_prov, on=['Provincia', 'Año', 'Trimestre'], how='inner')"
   ]
  },
  {
   "cell_type": "markdown",
   "metadata": {},
   "source": [
    "**Verificamos la presencia de nulos**"
   ]
  },
  {
   "cell_type": "code",
   "execution_count": 65,
   "metadata": {},
   "outputs": [
    {
     "data": {
      "text/plain": [
       "Año                             0\n",
       "Trimestre                       0\n",
       "Provincia                       0\n",
       "Accesos por cada 100 hogares    0\n",
       "Banda ancha fija                0\n",
       "Dial up                         2\n",
       "Total_x                         0\n",
       "HASTA 512 kbps                  0\n",
       "+ 512 Kbps - 1 Mbps             0\n",
       "+ 1 Mbps - 6 Mbps               0\n",
       "+ 6 Mbps - 10 Mbps              0\n",
       "+ 10 Mbps - 20 Mbps             0\n",
       "+ 20 Mbps - 30 Mbps             0\n",
       "+ 30 Mbps                       0\n",
       "OTROS                           0\n",
       "Total_y                         0\n",
       "dtype: int64"
      ]
     },
     "execution_count": 65,
     "metadata": {},
     "output_type": "execute_result"
    }
   ],
   "source": [
    "if_prov.isna().sum()"
   ]
  },
  {
   "cell_type": "code",
   "execution_count": 10,
   "metadata": {},
   "outputs": [
    {
     "name": "stdout",
     "output_type": "stream",
     "text": [
      "<class 'pandas.core.frame.DataFrame'>\n",
      "RangeIndex: 840 entries, 0 to 839\n",
      "Data columns (total 16 columns):\n",
      " #   Column                        Non-Null Count  Dtype \n",
      "---  ------                        --------------  ----- \n",
      " 0   Año                           840 non-null    int64 \n",
      " 1   Trimestre                     840 non-null    int64 \n",
      " 2   Provincia                     840 non-null    object\n",
      " 3   Accesos por cada 100 hogares  840 non-null    object\n",
      " 4   Banda ancha fija              840 non-null    object\n",
      " 5   Dial up                       838 non-null    object\n",
      " 6   Total_x                       840 non-null    object\n",
      " 7   HASTA 512 kbps                840 non-null    int32 \n",
      " 8   + 512 Kbps - 1 Mbps           840 non-null    int32 \n",
      " 9   + 1 Mbps - 6 Mbps             840 non-null    int32 \n",
      " 10  + 6 Mbps - 10 Mbps            840 non-null    int32 \n",
      " 11  + 10 Mbps - 20 Mbps           840 non-null    int32 \n",
      " 12  + 20 Mbps - 30 Mbps           840 non-null    int32 \n",
      " 13  + 30 Mbps                     840 non-null    int32 \n",
      " 14  OTROS                         840 non-null    int32 \n",
      " 15  Total_y                       840 non-null    object\n",
      "dtypes: int32(8), int64(2), object(6)\n",
      "memory usage: 78.9+ KB\n"
     ]
    }
   ],
   "source": [
    "if_prov.info()"
   ]
  },
  {
   "cell_type": "markdown",
   "metadata": {},
   "source": [
    "**Cambiamos tipos de datos y eliminamos columnas irrelevantes.**"
   ]
  },
  {
   "cell_type": "code",
   "execution_count": 11,
   "metadata": {},
   "outputs": [],
   "source": [
    "if_prov.rename(columns={'Total_x':'Total'}, inplace=True)\n",
    "if_prov.drop(columns='Total_y', inplace=True)\n",
    "if_prov['Total'] = if_prov['Total'].str.replace('.', '').astype('int')\n",
    "if_prov['Accesos por cada 100 hogares'] = if_prov['Accesos por cada 100 hogares'].str.replace(',', '.').astype('float')\n",
    "if_prov['Banda ancha fija'] = if_prov['Banda ancha fija'].str.replace('.', '').astype('int')\n"
   ]
  },
  {
   "cell_type": "code",
   "execution_count": 12,
   "metadata": {},
   "outputs": [
    {
     "data": {
      "text/html": [
       "<div>\n",
       "<style scoped>\n",
       "    .dataframe tbody tr th:only-of-type {\n",
       "        vertical-align: middle;\n",
       "    }\n",
       "\n",
       "    .dataframe tbody tr th {\n",
       "        vertical-align: top;\n",
       "    }\n",
       "\n",
       "    .dataframe thead th {\n",
       "        text-align: right;\n",
       "    }\n",
       "</style>\n",
       "<table border=\"1\" class=\"dataframe\">\n",
       "  <thead>\n",
       "    <tr style=\"text-align: right;\">\n",
       "      <th></th>\n",
       "      <th>Año</th>\n",
       "      <th>Trimestre</th>\n",
       "      <th>Provincia</th>\n",
       "      <th>Accesos por cada 100 hogares</th>\n",
       "      <th>Banda ancha fija</th>\n",
       "      <th>Dial up</th>\n",
       "      <th>Total</th>\n",
       "      <th>HASTA 512 kbps</th>\n",
       "      <th>+ 512 Kbps - 1 Mbps</th>\n",
       "      <th>+ 1 Mbps - 6 Mbps</th>\n",
       "      <th>+ 6 Mbps - 10 Mbps</th>\n",
       "      <th>+ 10 Mbps - 20 Mbps</th>\n",
       "      <th>+ 20 Mbps - 30 Mbps</th>\n",
       "      <th>+ 30 Mbps</th>\n",
       "      <th>OTROS</th>\n",
       "    </tr>\n",
       "  </thead>\n",
       "  <tbody>\n",
       "    <tr>\n",
       "      <th>0</th>\n",
       "      <td>2022</td>\n",
       "      <td>3</td>\n",
       "      <td>Buenos Aires</td>\n",
       "      <td>78.11</td>\n",
       "      <td>4715469</td>\n",
       "      <td>6.199</td>\n",
       "      <td>4721668</td>\n",
       "      <td>29985</td>\n",
       "      <td>27709</td>\n",
       "      <td>290315</td>\n",
       "      <td>297915</td>\n",
       "      <td>267044</td>\n",
       "      <td>12419</td>\n",
       "      <td>3618689</td>\n",
       "      <td>65821</td>\n",
       "    </tr>\n",
       "    <tr>\n",
       "      <th>1</th>\n",
       "      <td>2022</td>\n",
       "      <td>3</td>\n",
       "      <td>Capital Federal</td>\n",
       "      <td>122.28</td>\n",
       "      <td>1545534</td>\n",
       "      <td>2.145</td>\n",
       "      <td>1547679</td>\n",
       "      <td>5170</td>\n",
       "      <td>5742</td>\n",
       "      <td>34371</td>\n",
       "      <td>67829</td>\n",
       "      <td>51946</td>\n",
       "      <td>28692</td>\n",
       "      <td>1253105</td>\n",
       "      <td>105477</td>\n",
       "    </tr>\n",
       "    <tr>\n",
       "      <th>2</th>\n",
       "      <td>2022</td>\n",
       "      <td>3</td>\n",
       "      <td>Catamarca</td>\n",
       "      <td>65.33</td>\n",
       "      <td>70292</td>\n",
       "      <td>1</td>\n",
       "      <td>70293</td>\n",
       "      <td>710</td>\n",
       "      <td>3840</td>\n",
       "      <td>3107</td>\n",
       "      <td>5389</td>\n",
       "      <td>5099</td>\n",
       "      <td>3737</td>\n",
       "      <td>50298</td>\n",
       "      <td>2208</td>\n",
       "    </tr>\n",
       "    <tr>\n",
       "      <th>3</th>\n",
       "      <td>2022</td>\n",
       "      <td>3</td>\n",
       "      <td>Chaco</td>\n",
       "      <td>43.86</td>\n",
       "      <td>144141</td>\n",
       "      <td>5</td>\n",
       "      <td>144146</td>\n",
       "      <td>4610</td>\n",
       "      <td>9870</td>\n",
       "      <td>16782</td>\n",
       "      <td>18938</td>\n",
       "      <td>8049</td>\n",
       "      <td>15828</td>\n",
       "      <td>79390</td>\n",
       "      <td>3711</td>\n",
       "    </tr>\n",
       "    <tr>\n",
       "      <th>4</th>\n",
       "      <td>2022</td>\n",
       "      <td>3</td>\n",
       "      <td>Chubut</td>\n",
       "      <td>84.38</td>\n",
       "      <td>164874</td>\n",
       "      <td>904</td>\n",
       "      <td>165778</td>\n",
       "      <td>1090</td>\n",
       "      <td>1444</td>\n",
       "      <td>45707</td>\n",
       "      <td>3094</td>\n",
       "      <td>34682</td>\n",
       "      <td>15309</td>\n",
       "      <td>17563</td>\n",
       "      <td>20024</td>\n",
       "    </tr>\n",
       "  </tbody>\n",
       "</table>\n",
       "</div>"
      ],
      "text/plain": [
       "    Año  Trimestre        Provincia  Accesos por cada 100 hogares  \\\n",
       "0  2022          3     Buenos Aires                         78.11   \n",
       "1  2022          3  Capital Federal                        122.28   \n",
       "2  2022          3        Catamarca                         65.33   \n",
       "3  2022          3            Chaco                         43.86   \n",
       "4  2022          3           Chubut                         84.38   \n",
       "\n",
       "   Banda ancha fija Dial up    Total  HASTA 512 kbps  + 512 Kbps - 1 Mbps  \\\n",
       "0           4715469   6.199  4721668           29985                27709   \n",
       "1           1545534   2.145  1547679            5170                 5742   \n",
       "2             70292       1    70293             710                 3840   \n",
       "3            144141       5   144146            4610                 9870   \n",
       "4            164874     904   165778            1090                 1444   \n",
       "\n",
       "   + 1 Mbps - 6 Mbps  + 6 Mbps - 10 Mbps  + 10 Mbps - 20 Mbps  \\\n",
       "0             290315              297915               267044   \n",
       "1              34371               67829                51946   \n",
       "2               3107                5389                 5099   \n",
       "3              16782               18938                 8049   \n",
       "4              45707                3094                34682   \n",
       "\n",
       "   + 20 Mbps - 30 Mbps  + 30 Mbps   OTROS  \n",
       "0                12419    3618689   65821  \n",
       "1                28692    1253105  105477  \n",
       "2                 3737      50298    2208  \n",
       "3                15828      79390    3711  \n",
       "4                15309      17563   20024  "
      ]
     },
     "execution_count": 12,
     "metadata": {},
     "output_type": "execute_result"
    }
   ],
   "source": [
    "if_prov.head()"
   ]
  },
  {
   "cell_type": "code",
   "execution_count": 13,
   "metadata": {},
   "outputs": [
    {
     "data": {
      "text/plain": [
       "Año                             0\n",
       "Trimestre                       0\n",
       "Provincia                       0\n",
       "Accesos por cada 100 hogares    0\n",
       "Banda ancha fija                0\n",
       "Dial up                         2\n",
       "Total                           0\n",
       "HASTA 512 kbps                  0\n",
       "+ 512 Kbps - 1 Mbps             0\n",
       "+ 1 Mbps - 6 Mbps               0\n",
       "+ 6 Mbps - 10 Mbps              0\n",
       "+ 10 Mbps - 20 Mbps             0\n",
       "+ 20 Mbps - 30 Mbps             0\n",
       "+ 30 Mbps                       0\n",
       "OTROS                           0\n",
       "dtype: int64"
      ]
     },
     "execution_count": 13,
     "metadata": {},
     "output_type": "execute_result"
    }
   ],
   "source": [
    "if_prov.isna().sum()"
   ]
  },
  {
   "cell_type": "markdown",
   "metadata": {},
   "source": [
    "**Trabajamos sobre la columna Dial Up, rellenando los nulos y transformando los numeros para que puedan ser enteros**"
   ]
  },
  {
   "cell_type": "code",
   "execution_count": 61,
   "metadata": {},
   "outputs": [],
   "source": [
    "if_prov['Dial up'] = if_prov['Dial up'].str.replace('-', '')\n",
    "if_prov['Dial up'] = if_prov['Dial up'].str.replace('.', '')"
   ]
  },
  {
   "cell_type": "code",
   "execution_count": 65,
   "metadata": {},
   "outputs": [],
   "source": [
    "if_prov['Dial up'] = if_prov['Dial up'].fillna(0)"
   ]
  },
  {
   "cell_type": "code",
   "execution_count": 66,
   "metadata": {},
   "outputs": [],
   "source": [
    "if_prov['Dial up'] = if_prov['Dial up'].astype('int')"
   ]
  },
  {
   "cell_type": "code",
   "execution_count": 63,
   "metadata": {},
   "outputs": [
    {
     "data": {
      "text/html": [
       "<div>\n",
       "<style scoped>\n",
       "    .dataframe tbody tr th:only-of-type {\n",
       "        vertical-align: middle;\n",
       "    }\n",
       "\n",
       "    .dataframe tbody tr th {\n",
       "        vertical-align: top;\n",
       "    }\n",
       "\n",
       "    .dataframe thead th {\n",
       "        text-align: right;\n",
       "    }\n",
       "</style>\n",
       "<table border=\"1\" class=\"dataframe\">\n",
       "  <thead>\n",
       "    <tr style=\"text-align: right;\">\n",
       "      <th></th>\n",
       "      <th>Año</th>\n",
       "      <th>Trimestre</th>\n",
       "      <th>Provincia</th>\n",
       "      <th>Accesos por cada 100 hogares</th>\n",
       "      <th>Banda ancha fija</th>\n",
       "      <th>Dial up</th>\n",
       "      <th>Total</th>\n",
       "      <th>HASTA 512 kbps</th>\n",
       "      <th>+ 512 Kbps - 1 Mbps</th>\n",
       "      <th>+ 1 Mbps - 6 Mbps</th>\n",
       "      <th>+ 6 Mbps - 10 Mbps</th>\n",
       "      <th>+ 10 Mbps - 20 Mbps</th>\n",
       "      <th>+ 20 Mbps - 30 Mbps</th>\n",
       "      <th>+ 30 Mbps</th>\n",
       "      <th>OTROS</th>\n",
       "    </tr>\n",
       "  </thead>\n",
       "  <tbody>\n",
       "    <tr>\n",
       "      <th>0</th>\n",
       "      <td>2022</td>\n",
       "      <td>3</td>\n",
       "      <td>Buenos Aires</td>\n",
       "      <td>78.11</td>\n",
       "      <td>4715469</td>\n",
       "      <td>6199</td>\n",
       "      <td>4721668</td>\n",
       "      <td>29985</td>\n",
       "      <td>27709</td>\n",
       "      <td>290315</td>\n",
       "      <td>297915</td>\n",
       "      <td>267044</td>\n",
       "      <td>12419</td>\n",
       "      <td>3618689</td>\n",
       "      <td>65821</td>\n",
       "    </tr>\n",
       "    <tr>\n",
       "      <th>1</th>\n",
       "      <td>2022</td>\n",
       "      <td>3</td>\n",
       "      <td>Capital Federal</td>\n",
       "      <td>122.28</td>\n",
       "      <td>1545534</td>\n",
       "      <td>2145</td>\n",
       "      <td>1547679</td>\n",
       "      <td>5170</td>\n",
       "      <td>5742</td>\n",
       "      <td>34371</td>\n",
       "      <td>67829</td>\n",
       "      <td>51946</td>\n",
       "      <td>28692</td>\n",
       "      <td>1253105</td>\n",
       "      <td>105477</td>\n",
       "    </tr>\n",
       "    <tr>\n",
       "      <th>2</th>\n",
       "      <td>2022</td>\n",
       "      <td>3</td>\n",
       "      <td>Catamarca</td>\n",
       "      <td>65.33</td>\n",
       "      <td>70292</td>\n",
       "      <td>1</td>\n",
       "      <td>70293</td>\n",
       "      <td>710</td>\n",
       "      <td>3840</td>\n",
       "      <td>3107</td>\n",
       "      <td>5389</td>\n",
       "      <td>5099</td>\n",
       "      <td>3737</td>\n",
       "      <td>50298</td>\n",
       "      <td>2208</td>\n",
       "    </tr>\n",
       "    <tr>\n",
       "      <th>3</th>\n",
       "      <td>2022</td>\n",
       "      <td>3</td>\n",
       "      <td>Chaco</td>\n",
       "      <td>43.86</td>\n",
       "      <td>144141</td>\n",
       "      <td>5</td>\n",
       "      <td>144146</td>\n",
       "      <td>4610</td>\n",
       "      <td>9870</td>\n",
       "      <td>16782</td>\n",
       "      <td>18938</td>\n",
       "      <td>8049</td>\n",
       "      <td>15828</td>\n",
       "      <td>79390</td>\n",
       "      <td>3711</td>\n",
       "    </tr>\n",
       "    <tr>\n",
       "      <th>4</th>\n",
       "      <td>2022</td>\n",
       "      <td>3</td>\n",
       "      <td>Chubut</td>\n",
       "      <td>84.38</td>\n",
       "      <td>164874</td>\n",
       "      <td>904</td>\n",
       "      <td>165778</td>\n",
       "      <td>1090</td>\n",
       "      <td>1444</td>\n",
       "      <td>45707</td>\n",
       "      <td>3094</td>\n",
       "      <td>34682</td>\n",
       "      <td>15309</td>\n",
       "      <td>17563</td>\n",
       "      <td>20024</td>\n",
       "    </tr>\n",
       "  </tbody>\n",
       "</table>\n",
       "</div>"
      ],
      "text/plain": [
       "    Año  Trimestre        Provincia  Accesos por cada 100 hogares  \\\n",
       "0  2022          3     Buenos Aires                         78.11   \n",
       "1  2022          3  Capital Federal                        122.28   \n",
       "2  2022          3        Catamarca                         65.33   \n",
       "3  2022          3            Chaco                         43.86   \n",
       "4  2022          3           Chubut                         84.38   \n",
       "\n",
       "   Banda ancha fija Dial up    Total  HASTA 512 kbps  + 512 Kbps - 1 Mbps  \\\n",
       "0           4715469    6199  4721668           29985                27709   \n",
       "1           1545534    2145  1547679            5170                 5742   \n",
       "2             70292       1    70293             710                 3840   \n",
       "3            144141       5   144146            4610                 9870   \n",
       "4            164874     904   165778            1090                 1444   \n",
       "\n",
       "   + 1 Mbps - 6 Mbps  + 6 Mbps - 10 Mbps  + 10 Mbps - 20 Mbps  \\\n",
       "0             290315              297915               267044   \n",
       "1              34371               67829                51946   \n",
       "2               3107                5389                 5099   \n",
       "3              16782               18938                 8049   \n",
       "4              45707                3094                34682   \n",
       "\n",
       "   + 20 Mbps - 30 Mbps  + 30 Mbps   OTROS  \n",
       "0                12419    3618689   65821  \n",
       "1                28692    1253105  105477  \n",
       "2                 3737      50298    2208  \n",
       "3                15828      79390    3711  \n",
       "4                15309      17563   20024  "
      ]
     },
     "execution_count": 63,
     "metadata": {},
     "output_type": "execute_result"
    }
   ],
   "source": [
    "if_prov.head()"
   ]
  },
  {
   "cell_type": "code",
   "execution_count": 15,
   "metadata": {},
   "outputs": [
    {
     "data": {
      "text/plain": [
       "(840, 15)"
      ]
     },
     "execution_count": 15,
     "metadata": {},
     "output_type": "execute_result"
    }
   ],
   "source": [
    "if_prov.shape"
   ]
  },
  {
   "cell_type": "markdown",
   "metadata": {},
   "source": [
    "**Guardamos el nuevo dataset en un CSV.**"
   ]
  },
  {
   "cell_type": "code",
   "execution_count": 67,
   "metadata": {},
   "outputs": [],
   "source": [
    "if_prov.to_csv('Datasets_clean/InternetFijo_Prov.csv', index=False)"
   ]
  },
  {
   "cell_type": "markdown",
   "metadata": {},
   "source": [
    "## Velocidad Media de Bajada"
   ]
  },
  {
   "cell_type": "code",
   "execution_count": 18,
   "metadata": {},
   "outputs": [],
   "source": [
    "vel_med_baj = pd.read_csv('datasets/historico_velocidad_internet.csv')"
   ]
  },
  {
   "cell_type": "code",
   "execution_count": 21,
   "metadata": {},
   "outputs": [
    {
     "name": "stdout",
     "output_type": "stream",
     "text": [
      "<class 'pandas.core.frame.DataFrame'>\n",
      "RangeIndex: 35 entries, 0 to 34\n",
      "Data columns (total 4 columns):\n",
      " #   Column      Non-Null Count  Dtype  \n",
      "---  ------      --------------  -----  \n",
      " 0   Año         35 non-null     int64  \n",
      " 1   Trimestre   35 non-null     int64  \n",
      " 2   Media_Mbps  35 non-null     float64\n",
      " 3   Periodo     35 non-null     object \n",
      "dtypes: float64(1), int64(2), object(1)\n",
      "memory usage: 1.2+ KB\n"
     ]
    }
   ],
   "source": [
    "vel_med_baj.info()"
   ]
  },
  {
   "cell_type": "markdown",
   "metadata": {},
   "source": [
    "**Realizamos transformaciones como cambios de datos y renombramiento de columnas.**"
   ]
  },
  {
   "cell_type": "code",
   "execution_count": 19,
   "metadata": {},
   "outputs": [],
   "source": [
    "vel_med_baj['Mbps (Media de bajada)'] = vel_med_baj['Mbps (Media de bajada)'].str.replace(',', '.').astype('float')\n",
    "vel_med_baj.rename(columns={'Trimestre.1':'Periodo', 'Mbps (Media de bajada)':'Media_Mbps'},inplace=True)"
   ]
  },
  {
   "cell_type": "code",
   "execution_count": 20,
   "metadata": {},
   "outputs": [
    {
     "data": {
      "text/html": [
       "<div>\n",
       "<style scoped>\n",
       "    .dataframe tbody tr th:only-of-type {\n",
       "        vertical-align: middle;\n",
       "    }\n",
       "\n",
       "    .dataframe tbody tr th {\n",
       "        vertical-align: top;\n",
       "    }\n",
       "\n",
       "    .dataframe thead th {\n",
       "        text-align: right;\n",
       "    }\n",
       "</style>\n",
       "<table border=\"1\" class=\"dataframe\">\n",
       "  <thead>\n",
       "    <tr style=\"text-align: right;\">\n",
       "      <th></th>\n",
       "      <th>Año</th>\n",
       "      <th>Trimestre</th>\n",
       "      <th>Media_Mbps</th>\n",
       "      <th>Periodo</th>\n",
       "    </tr>\n",
       "  </thead>\n",
       "  <tbody>\n",
       "    <tr>\n",
       "      <th>0</th>\n",
       "      <td>2022</td>\n",
       "      <td>3</td>\n",
       "      <td>62.46</td>\n",
       "      <td>Jul-Sept 2022</td>\n",
       "    </tr>\n",
       "    <tr>\n",
       "      <th>1</th>\n",
       "      <td>2022</td>\n",
       "      <td>2</td>\n",
       "      <td>58.44</td>\n",
       "      <td>Abr-Jun 2022</td>\n",
       "    </tr>\n",
       "    <tr>\n",
       "      <th>2</th>\n",
       "      <td>2022</td>\n",
       "      <td>1</td>\n",
       "      <td>55.11</td>\n",
       "      <td>Ene-Mar 2022</td>\n",
       "    </tr>\n",
       "    <tr>\n",
       "      <th>3</th>\n",
       "      <td>2021</td>\n",
       "      <td>4</td>\n",
       "      <td>52.34</td>\n",
       "      <td>Oct-Dic 2021</td>\n",
       "    </tr>\n",
       "    <tr>\n",
       "      <th>4</th>\n",
       "      <td>2021</td>\n",
       "      <td>3</td>\n",
       "      <td>48.46</td>\n",
       "      <td>Jul-Sept 2021</td>\n",
       "    </tr>\n",
       "  </tbody>\n",
       "</table>\n",
       "</div>"
      ],
      "text/plain": [
       "    Año  Trimestre  Media_Mbps        Periodo\n",
       "0  2022          3       62.46  Jul-Sept 2022\n",
       "1  2022          2       58.44   Abr-Jun 2022\n",
       "2  2022          1       55.11   Ene-Mar 2022\n",
       "3  2021          4       52.34   Oct-Dic 2021\n",
       "4  2021          3       48.46  Jul-Sept 2021"
      ]
     },
     "execution_count": 20,
     "metadata": {},
     "output_type": "execute_result"
    }
   ],
   "source": [
    "vel_med_baj.head()"
   ]
  },
  {
   "cell_type": "markdown",
   "metadata": {},
   "source": [
    "**Guardamos el nuevo dataset en un CSV.**"
   ]
  },
  {
   "cell_type": "code",
   "execution_count": 22,
   "metadata": {},
   "outputs": [],
   "source": [
    "vel_med_baj.to_csv('Datasets_clean/Velocidad_media_bajada.csv', index=False)"
   ]
  },
  {
   "cell_type": "markdown",
   "metadata": {},
   "source": [
    "## Tecnologias."
   ]
  },
  {
   "cell_type": "markdown",
   "metadata": {},
   "source": [
    "**Accesos a internet por las tecnologias de cada provincia por año.**"
   ]
  },
  {
   "cell_type": "code",
   "execution_count": 23,
   "metadata": {},
   "outputs": [],
   "source": [
    "acc_por_tec = pd.read_csv(\"datasets/Internet_Accesos-por-tecnologia.csv\")"
   ]
  },
  {
   "cell_type": "code",
   "execution_count": 24,
   "metadata": {},
   "outputs": [
    {
     "name": "stdout",
     "output_type": "stream",
     "text": [
      "<class 'pandas.core.frame.DataFrame'>\n",
      "RangeIndex: 35 entries, 0 to 34\n",
      "Data columns (total 9 columns):\n",
      " #   Column        Non-Null Count  Dtype  \n",
      "---  ------        --------------  -----  \n",
      " 0   Año           35 non-null     int64  \n",
      " 1   Trimestre     35 non-null     int64  \n",
      " 2   ADSL          35 non-null     object \n",
      " 3   Cablemodem    35 non-null     object \n",
      " 4   Fibra óptica  35 non-null     object \n",
      " 5   Wireless      35 non-null     float64\n",
      " 6   Otros         35 non-null     float64\n",
      " 7   Total         35 non-null     object \n",
      " 8   Periodo       35 non-null     object \n",
      "dtypes: float64(2), int64(2), object(5)\n",
      "memory usage: 2.6+ KB\n"
     ]
    }
   ],
   "source": [
    "acc_por_tec.info()"
   ]
  },
  {
   "cell_type": "markdown",
   "metadata": {},
   "source": [
    "**Realizamos transformaciones para cambiar tipos de datos.**"
   ]
  },
  {
   "cell_type": "code",
   "execution_count": 25,
   "metadata": {},
   "outputs": [],
   "source": [
    "acc_por_tec['ADSL'] = acc_por_tec['ADSL'].str.replace('.','').astype('int')\n",
    "acc_por_tec['Cablemodem'] = acc_por_tec['Cablemodem'].str.replace('.','').astype('int')\n",
    "acc_por_tec['Fibra óptica'] = acc_por_tec['Fibra óptica'].str.replace('.','').astype('int')\n",
    "acc_por_tec['Wireless'] = acc_por_tec['Wireless'].astype('str').str.replace('.','').astype('int')\n",
    "acc_por_tec['Otros'] = acc_por_tec['Otros'].astype('str').str.replace('.','').astype('int')\n",
    "acc_por_tec['Total'] = acc_por_tec['Total'].str.replace('.','').astype('int')"
   ]
  },
  {
   "cell_type": "code",
   "execution_count": 26,
   "metadata": {},
   "outputs": [
    {
     "data": {
      "text/html": [
       "<div>\n",
       "<style scoped>\n",
       "    .dataframe tbody tr th:only-of-type {\n",
       "        vertical-align: middle;\n",
       "    }\n",
       "\n",
       "    .dataframe tbody tr th {\n",
       "        vertical-align: top;\n",
       "    }\n",
       "\n",
       "    .dataframe thead th {\n",
       "        text-align: right;\n",
       "    }\n",
       "</style>\n",
       "<table border=\"1\" class=\"dataframe\">\n",
       "  <thead>\n",
       "    <tr style=\"text-align: right;\">\n",
       "      <th></th>\n",
       "      <th>Año</th>\n",
       "      <th>Trimestre</th>\n",
       "      <th>ADSL</th>\n",
       "      <th>Cablemodem</th>\n",
       "      <th>Fibra óptica</th>\n",
       "      <th>Wireless</th>\n",
       "      <th>Otros</th>\n",
       "      <th>Total</th>\n",
       "      <th>Periodo</th>\n",
       "    </tr>\n",
       "  </thead>\n",
       "  <tbody>\n",
       "    <tr>\n",
       "      <th>0</th>\n",
       "      <td>2022</td>\n",
       "      <td>3</td>\n",
       "      <td>1395277</td>\n",
       "      <td>6031970</td>\n",
       "      <td>2871541</td>\n",
       "      <td>55711</td>\n",
       "      <td>23523</td>\n",
       "      <td>11091128</td>\n",
       "      <td>Jul-Sept 2022</td>\n",
       "    </tr>\n",
       "    <tr>\n",
       "      <th>1</th>\n",
       "      <td>2022</td>\n",
       "      <td>2</td>\n",
       "      <td>1468333</td>\n",
       "      <td>5979214</td>\n",
       "      <td>2723285</td>\n",
       "      <td>556243</td>\n",
       "      <td>231609</td>\n",
       "      <td>10958684</td>\n",
       "      <td>Abr-Jun 2022</td>\n",
       "    </tr>\n",
       "    <tr>\n",
       "      <th>2</th>\n",
       "      <td>2022</td>\n",
       "      <td>1</td>\n",
       "      <td>1533240</td>\n",
       "      <td>6073426</td>\n",
       "      <td>2219533</td>\n",
       "      <td>545814</td>\n",
       "      <td>251996</td>\n",
       "      <td>10624009</td>\n",
       "      <td>Ene-Mar 2022</td>\n",
       "    </tr>\n",
       "    <tr>\n",
       "      <th>3</th>\n",
       "      <td>2021</td>\n",
       "      <td>4</td>\n",
       "      <td>1657615</td>\n",
       "      <td>5984240</td>\n",
       "      <td>2072236</td>\n",
       "      <td>523107</td>\n",
       "      <td>252596</td>\n",
       "      <td>10489794</td>\n",
       "      <td>Oct-Dic 2021</td>\n",
       "    </tr>\n",
       "    <tr>\n",
       "      <th>4</th>\n",
       "      <td>2021</td>\n",
       "      <td>3</td>\n",
       "      <td>1950631</td>\n",
       "      <td>5826257</td>\n",
       "      <td>1566048</td>\n",
       "      <td>492415</td>\n",
       "      <td>25019</td>\n",
       "      <td>10085541</td>\n",
       "      <td>Jul-Sept 2021</td>\n",
       "    </tr>\n",
       "  </tbody>\n",
       "</table>\n",
       "</div>"
      ],
      "text/plain": [
       "    Año  Trimestre     ADSL  Cablemodem  Fibra óptica  Wireless   Otros  \\\n",
       "0  2022          3  1395277     6031970       2871541     55711   23523   \n",
       "1  2022          2  1468333     5979214       2723285    556243  231609   \n",
       "2  2022          1  1533240     6073426       2219533    545814  251996   \n",
       "3  2021          4  1657615     5984240       2072236    523107  252596   \n",
       "4  2021          3  1950631     5826257       1566048    492415   25019   \n",
       "\n",
       "      Total        Periodo  \n",
       "0  11091128  Jul-Sept 2022  \n",
       "1  10958684   Abr-Jun 2022  \n",
       "2  10624009   Ene-Mar 2022  \n",
       "3  10489794   Oct-Dic 2021  \n",
       "4  10085541  Jul-Sept 2021  "
      ]
     },
     "execution_count": 26,
     "metadata": {},
     "output_type": "execute_result"
    }
   ],
   "source": [
    "acc_por_tec.head()"
   ]
  },
  {
   "cell_type": "markdown",
   "metadata": {},
   "source": [
    "**Guardamos el nuevo dataset en un CSV.**"
   ]
  },
  {
   "cell_type": "code",
   "execution_count": 27,
   "metadata": {},
   "outputs": [],
   "source": [
    "acc_por_tec.to_csv('Datasets_clean/Accesos_por_tecnologia.csv', index=False)"
   ]
  },
  {
   "cell_type": "markdown",
   "metadata": {},
   "source": [
    "## Acceso a internet de cada tecnologia en las distintas Localidades."
   ]
  },
  {
   "cell_type": "code",
   "execution_count": 37,
   "metadata": {},
   "outputs": [],
   "source": [
    "tecnologia_loc = pd.read_csv(\"datasets/Listadodelocalidadesconconectividadainternet_2750221689373390287.csv\")"
   ]
  },
  {
   "cell_type": "code",
   "execution_count": 38,
   "metadata": {},
   "outputs": [
    {
     "name": "stdout",
     "output_type": "stream",
     "text": [
      "<class 'pandas.core.frame.DataFrame'>\n",
      "RangeIndex: 4312 entries, 0 to 4311\n",
      "Data columns (total 12 columns):\n",
      " #   Column         Non-Null Count  Dtype \n",
      "---  ------         --------------  ----- \n",
      " 0   Provincia      4312 non-null   object\n",
      " 1   Partido        4312 non-null   object\n",
      " 2   Localidad      4312 non-null   object\n",
      " 3   ADSL           4312 non-null   object\n",
      " 4   CABLEMODEM     4312 non-null   object\n",
      " 5   DIALUP         4312 non-null   object\n",
      " 6   FIBRAOPTICA    4312 non-null   object\n",
      " 7   4G             4312 non-null   object\n",
      " 8   3G             4312 non-null   object\n",
      " 9   TELEFONIAFIJA  4312 non-null   object\n",
      " 10  WIRELESS       4312 non-null   object\n",
      " 11  SATELITAL      4312 non-null   object\n",
      "dtypes: object(12)\n",
      "memory usage: 404.4+ KB\n"
     ]
    }
   ],
   "source": [
    "tecnologia_loc.info()"
   ]
  },
  {
   "cell_type": "markdown",
   "metadata": {},
   "source": [
    "**Convertimos variables categoricas a numericas mediante una codificacion binaria. Los '--' los vamos a tomar como NO.**"
   ]
  },
  {
   "cell_type": "code",
   "execution_count": 29,
   "metadata": {},
   "outputs": [],
   "source": [
    "tecnologia_loc = tecnologia_loc.replace({'SI':1,'--':0})"
   ]
  },
  {
   "cell_type": "markdown",
   "metadata": {},
   "source": [
    "**Establecemos una variable localidad donde vamos a guardar las columnas de Provincia y Localidad.**  \n",
    "**Agrupamos todas las localidades de cada provincia.**"
   ]
  },
  {
   "cell_type": "code",
   "execution_count": 30,
   "metadata": {},
   "outputs": [],
   "source": [
    "localidad = tecnologia_loc[['Provincia', \"Localidad\"]]\n",
    "localidad = tecnologia_loc.groupby('Provincia')['Localidad'].nunique().reset_index()"
   ]
  },
  {
   "cell_type": "markdown",
   "metadata": {},
   "source": [
    "**Transformamos las primeras letras de las palabras a mayusculas y cambiamos el nombre de una provincia.**"
   ]
  },
  {
   "cell_type": "code",
   "execution_count": 31,
   "metadata": {},
   "outputs": [],
   "source": [
    "localidad['Provincia'] = localidad['Provincia'].str.title()\n",
    "localidad = localidad.replace({'Caba':'Capital Federal'})"
   ]
  },
  {
   "cell_type": "markdown",
   "metadata": {},
   "source": [
    "**Eliminamos la columna Partido y Localidad y agrupamos por la columna provincia sumando los valores = a 1 de cada columna.**"
   ]
  },
  {
   "cell_type": "code",
   "execution_count": 32,
   "metadata": {},
   "outputs": [],
   "source": [
    "tecnologia_loc.drop(columns=['Partido', 'Localidad'], inplace=True)\n",
    "tecnologia_loc = tecnologia_loc.groupby('Provincia').sum().reset_index()"
   ]
  },
  {
   "cell_type": "markdown",
   "metadata": {},
   "source": [
    "**Transformamos las primeras letras de las palabras a mayusculas y cambiamos el nombre de una provincia.**"
   ]
  },
  {
   "cell_type": "code",
   "execution_count": 33,
   "metadata": {},
   "outputs": [],
   "source": [
    "tecnologia_loc[\"Provincia\"] = tecnologia_loc[\"Provincia\"].str.title()\n",
    "tecnologia_loc = tecnologia_loc.replace({'Caba':'Capital Federal'})"
   ]
  },
  {
   "cell_type": "markdown",
   "metadata": {},
   "source": [
    "**Unimos los datasets.**"
   ]
  },
  {
   "cell_type": "code",
   "execution_count": 34,
   "metadata": {},
   "outputs": [],
   "source": [
    "tecnologia_loc = pd.merge(tecnologia_loc, localidad, on='Provincia', how='left')"
   ]
  },
  {
   "cell_type": "code",
   "execution_count": 31,
   "metadata": {},
   "outputs": [
    {
     "data": {
      "text/html": [
       "<div>\n",
       "<style scoped>\n",
       "    .dataframe tbody tr th:only-of-type {\n",
       "        vertical-align: middle;\n",
       "    }\n",
       "\n",
       "    .dataframe tbody tr th {\n",
       "        vertical-align: top;\n",
       "    }\n",
       "\n",
       "    .dataframe thead th {\n",
       "        text-align: right;\n",
       "    }\n",
       "</style>\n",
       "<table border=\"1\" class=\"dataframe\">\n",
       "  <thead>\n",
       "    <tr style=\"text-align: right;\">\n",
       "      <th></th>\n",
       "      <th>Provincia</th>\n",
       "      <th>ADSL</th>\n",
       "      <th>CABLEMODEM</th>\n",
       "      <th>DIALUP</th>\n",
       "      <th>FIBRAOPTICA</th>\n",
       "      <th>4G</th>\n",
       "      <th>3G</th>\n",
       "      <th>TELEFONIAFIJA</th>\n",
       "      <th>WIRELESS</th>\n",
       "      <th>SATELITAL</th>\n",
       "      <th>Localidad</th>\n",
       "    </tr>\n",
       "  </thead>\n",
       "  <tbody>\n",
       "    <tr>\n",
       "      <th>0</th>\n",
       "      <td>Buenos Aires</td>\n",
       "      <td>355</td>\n",
       "      <td>345</td>\n",
       "      <td>213</td>\n",
       "      <td>443</td>\n",
       "      <td>655</td>\n",
       "      <td>590</td>\n",
       "      <td>548</td>\n",
       "      <td>497</td>\n",
       "      <td>157</td>\n",
       "      <td>888</td>\n",
       "    </tr>\n",
       "    <tr>\n",
       "      <th>1</th>\n",
       "      <td>Capital Federal</td>\n",
       "      <td>48</td>\n",
       "      <td>48</td>\n",
       "      <td>48</td>\n",
       "      <td>48</td>\n",
       "      <td>48</td>\n",
       "      <td>48</td>\n",
       "      <td>48</td>\n",
       "      <td>48</td>\n",
       "      <td>48</td>\n",
       "      <td>48</td>\n",
       "    </tr>\n",
       "    <tr>\n",
       "      <th>2</th>\n",
       "      <td>Catamarca</td>\n",
       "      <td>7</td>\n",
       "      <td>3</td>\n",
       "      <td>1</td>\n",
       "      <td>23</td>\n",
       "      <td>57</td>\n",
       "      <td>29</td>\n",
       "      <td>31</td>\n",
       "      <td>33</td>\n",
       "      <td>48</td>\n",
       "      <td>167</td>\n",
       "    </tr>\n",
       "    <tr>\n",
       "      <th>3</th>\n",
       "      <td>Chaco</td>\n",
       "      <td>28</td>\n",
       "      <td>14</td>\n",
       "      <td>1</td>\n",
       "      <td>45</td>\n",
       "      <td>75</td>\n",
       "      <td>44</td>\n",
       "      <td>47</td>\n",
       "      <td>46</td>\n",
       "      <td>43</td>\n",
       "      <td>92</td>\n",
       "    </tr>\n",
       "    <tr>\n",
       "      <th>4</th>\n",
       "      <td>Chubut</td>\n",
       "      <td>13</td>\n",
       "      <td>11</td>\n",
       "      <td>15</td>\n",
       "      <td>13</td>\n",
       "      <td>38</td>\n",
       "      <td>31</td>\n",
       "      <td>54</td>\n",
       "      <td>31</td>\n",
       "      <td>49</td>\n",
       "      <td>90</td>\n",
       "    </tr>\n",
       "  </tbody>\n",
       "</table>\n",
       "</div>"
      ],
      "text/plain": [
       "         Provincia  ADSL  CABLEMODEM  DIALUP  FIBRAOPTICA   4G   3G  \\\n",
       "0     Buenos Aires   355         345     213          443  655  590   \n",
       "1  Capital Federal    48          48      48           48   48   48   \n",
       "2        Catamarca     7           3       1           23   57   29   \n",
       "3            Chaco    28          14       1           45   75   44   \n",
       "4           Chubut    13          11      15           13   38   31   \n",
       "\n",
       "   TELEFONIAFIJA  WIRELESS  SATELITAL  Localidad  \n",
       "0            548       497        157        888  \n",
       "1             48        48         48         48  \n",
       "2             31        33         48        167  \n",
       "3             47        46         43         92  \n",
       "4             54        31         49         90  "
      ]
     },
     "execution_count": 31,
     "metadata": {},
     "output_type": "execute_result"
    }
   ],
   "source": [
    "tecnologia_loc.head()"
   ]
  },
  {
   "cell_type": "markdown",
   "metadata": {},
   "source": [
    "**Guardamos el nuevo dataset en un CSV.**"
   ]
  },
  {
   "cell_type": "code",
   "execution_count": 36,
   "metadata": {},
   "outputs": [],
   "source": [
    "tecnologia_loc.to_csv('Datasets_clean/Tecnologias_localidad.csv', index=False)"
   ]
  },
  {
   "cell_type": "markdown",
   "metadata": {},
   "source": [
    "## Ingresos"
   ]
  },
  {
   "cell_type": "code",
   "execution_count": 39,
   "metadata": {},
   "outputs": [],
   "source": [
    "ingresosIF = pd.read_csv(\"datasets/Internet_Ingresos.csv\")"
   ]
  },
  {
   "cell_type": "markdown",
   "metadata": {},
   "source": [
    "## Dolar"
   ]
  },
  {
   "cell_type": "code",
   "execution_count": 40,
   "metadata": {},
   "outputs": [],
   "source": [
    "dolar = pd.read_csv(\"datasets/datos-tipo-cambio-usd-futuro-dolar-frecuencia-diaria.csv\")"
   ]
  },
  {
   "cell_type": "markdown",
   "metadata": {},
   "source": [
    "**Nos quedamos con estas columnas que nos permiten ver el valor del dolar oficial en el tiempo.**"
   ]
  },
  {
   "cell_type": "code",
   "execution_count": 41,
   "metadata": {},
   "outputs": [],
   "source": [
    "dolar = dolar[[\"indice_tiempo\", \"tipo_cambio_bna_vendedor\"]]\n",
    "dolar['indice_tiempo'] = pd.to_datetime(dolar['indice_tiempo'])\n",
    "dolar['Año'] = dolar['indice_tiempo'].dt.year"
   ]
  },
  {
   "cell_type": "markdown",
   "metadata": {},
   "source": [
    "**Establecemos los trimestres.**"
   ]
  },
  {
   "cell_type": "code",
   "execution_count": 42,
   "metadata": {},
   "outputs": [],
   "source": [
    "dolar['Trimestre'] = pd.cut(dolar['indice_tiempo'].dt.month, bins=[0, 3, 6, 9, 12], labels=[1, 2, 3, 4])\n",
    "dolar.drop(columns='indice_tiempo', inplace=True)"
   ]
  },
  {
   "cell_type": "markdown",
   "metadata": {},
   "source": [
    "**Sacamos el promedio de dolar agrupado por año y trimestre.**"
   ]
  },
  {
   "cell_type": "code",
   "execution_count": 43,
   "metadata": {},
   "outputs": [],
   "source": [
    "avg_dolar_anio = dolar.groupby(['Año','Trimestre'])['tipo_cambio_bna_vendedor'].mean().reset_index()"
   ]
  },
  {
   "cell_type": "markdown",
   "metadata": {},
   "source": [
    "**Unimos ambos df.**"
   ]
  },
  {
   "cell_type": "code",
   "execution_count": 44,
   "metadata": {},
   "outputs": [],
   "source": [
    "ingresosIF = pd.merge(ingresosIF, avg_dolar_anio, on=['Año', 'Trimestre'])"
   ]
  },
  {
   "cell_type": "code",
   "execution_count": 45,
   "metadata": {},
   "outputs": [
    {
     "data": {
      "text/plain": [
       "Año                          0\n",
       "Trimestre                    0\n",
       "Ingresos (miles de pesos)    0\n",
       "Periodo                      0\n",
       "tipo_cambio_bna_vendedor     3\n",
       "dtype: int64"
      ]
     },
     "execution_count": 45,
     "metadata": {},
     "output_type": "execute_result"
    }
   ],
   "source": [
    "ingresosIF.isna().sum()"
   ]
  },
  {
   "cell_type": "code",
   "execution_count": 46,
   "metadata": {},
   "outputs": [
    {
     "data": {
      "text/html": [
       "<div>\n",
       "<style scoped>\n",
       "    .dataframe tbody tr th:only-of-type {\n",
       "        vertical-align: middle;\n",
       "    }\n",
       "\n",
       "    .dataframe tbody tr th {\n",
       "        vertical-align: top;\n",
       "    }\n",
       "\n",
       "    .dataframe thead th {\n",
       "        text-align: right;\n",
       "    }\n",
       "</style>\n",
       "<table border=\"1\" class=\"dataframe\">\n",
       "  <thead>\n",
       "    <tr style=\"text-align: right;\">\n",
       "      <th></th>\n",
       "      <th>Año</th>\n",
       "      <th>Trimestre</th>\n",
       "      <th>Ingresos (miles de pesos)</th>\n",
       "      <th>Periodo</th>\n",
       "      <th>tipo_cambio_bna_vendedor</th>\n",
       "    </tr>\n",
       "  </thead>\n",
       "  <tbody>\n",
       "    <tr>\n",
       "      <th>30</th>\n",
       "      <td>2015</td>\n",
       "      <td>1</td>\n",
       "      <td>4.876.385</td>\n",
       "      <td>Ene-Mar 2015</td>\n",
       "      <td>8.689278</td>\n",
       "    </tr>\n",
       "    <tr>\n",
       "      <th>31</th>\n",
       "      <td>2014</td>\n",
       "      <td>4</td>\n",
       "      <td>3.950.441</td>\n",
       "      <td>Oct-Dic 2014</td>\n",
       "      <td>8.536441</td>\n",
       "    </tr>\n",
       "    <tr>\n",
       "      <th>32</th>\n",
       "      <td>2014</td>\n",
       "      <td>3</td>\n",
       "      <td>3.478.638</td>\n",
       "      <td>Jul-Sept 2014</td>\n",
       "      <td>NaN</td>\n",
       "    </tr>\n",
       "    <tr>\n",
       "      <th>33</th>\n",
       "      <td>2014</td>\n",
       "      <td>2</td>\n",
       "      <td>3.270.816</td>\n",
       "      <td>Abr-Jun 2014</td>\n",
       "      <td>NaN</td>\n",
       "    </tr>\n",
       "    <tr>\n",
       "      <th>34</th>\n",
       "      <td>2014</td>\n",
       "      <td>1</td>\n",
       "      <td>2.984.054</td>\n",
       "      <td>Ene-Mar 2014</td>\n",
       "      <td>NaN</td>\n",
       "    </tr>\n",
       "  </tbody>\n",
       "</table>\n",
       "</div>"
      ],
      "text/plain": [
       "     Año Trimestre Ingresos (miles de pesos)        Periodo  \\\n",
       "30  2015         1                 4.876.385   Ene-Mar 2015   \n",
       "31  2014         4                 3.950.441   Oct-Dic 2014   \n",
       "32  2014         3                 3.478.638  Jul-Sept 2014   \n",
       "33  2014         2                 3.270.816   Abr-Jun 2014   \n",
       "34  2014         1                 2.984.054   Ene-Mar 2014   \n",
       "\n",
       "    tipo_cambio_bna_vendedor  \n",
       "30                  8.689278  \n",
       "31                  8.536441  \n",
       "32                       NaN  \n",
       "33                       NaN  \n",
       "34                       NaN  "
      ]
     },
     "execution_count": 46,
     "metadata": {},
     "output_type": "execute_result"
    }
   ],
   "source": [
    "ingresosIF.tail()"
   ]
  },
  {
   "cell_type": "markdown",
   "metadata": {},
   "source": [
    "**Realizamos cambios en los tipos de datos**  \n",
    "**Vemos que los 3 nulos son del año 2014 por lo cual nos vamos a guiar con el ultimo trimestre de este año para rellenar los nulos de los 3 trimestres restantes**"
   ]
  },
  {
   "cell_type": "code",
   "execution_count": 47,
   "metadata": {},
   "outputs": [],
   "source": [
    "ingresosIF['tipo_cambio_bna_vendedor'].fillna(8, inplace=True)\n",
    "ingresosIF['Ingresos (miles de pesos)'] = ingresosIF['Ingresos (miles de pesos)'].str.replace('.', '').str.replace(',', '.')\n",
    "ingresosIF['Ingresos (miles de pesos)'] = ingresosIF['Ingresos (miles de pesos)'].astype('int')"
   ]
  },
  {
   "cell_type": "markdown",
   "metadata": {},
   "source": [
    "**Sacamos el tipo de cambio diviendo los pesos por el dolar en cada trimestre de cada año.**"
   ]
  },
  {
   "cell_type": "code",
   "execution_count": 48,
   "metadata": {},
   "outputs": [],
   "source": [
    "ingresosIF['Ingresos usd'] = round(ingresosIF['Ingresos (miles de pesos)'] / ingresosIF['tipo_cambio_bna_vendedor'])"
   ]
  },
  {
   "cell_type": "markdown",
   "metadata": {},
   "source": [
    "**Realizamos cambios de datos y renombramiento de columnas.**"
   ]
  },
  {
   "cell_type": "code",
   "execution_count": 49,
   "metadata": {},
   "outputs": [],
   "source": [
    "ingresosIF['Ingresos usd'] = ingresosIF['Ingresos usd'].astype('int')\n",
    "ingresosIF['Año'] = ingresosIF['Año'].astype('object')\n",
    "ingresosIF.rename(columns={'tipo_cambio_bna_vendedor':'Dolar Oficial'}, inplace=True)\n",
    "ingresosIF['Dolar Oficial'] = ingresosIF['Dolar Oficial'].astype('int')"
   ]
  },
  {
   "cell_type": "code",
   "execution_count": 50,
   "metadata": {},
   "outputs": [
    {
     "data": {
      "text/html": [
       "<div>\n",
       "<style scoped>\n",
       "    .dataframe tbody tr th:only-of-type {\n",
       "        vertical-align: middle;\n",
       "    }\n",
       "\n",
       "    .dataframe tbody tr th {\n",
       "        vertical-align: top;\n",
       "    }\n",
       "\n",
       "    .dataframe thead th {\n",
       "        text-align: right;\n",
       "    }\n",
       "</style>\n",
       "<table border=\"1\" class=\"dataframe\">\n",
       "  <thead>\n",
       "    <tr style=\"text-align: right;\">\n",
       "      <th></th>\n",
       "      <th>Año</th>\n",
       "      <th>Trimestre</th>\n",
       "      <th>Ingresos (miles de pesos)</th>\n",
       "      <th>Periodo</th>\n",
       "      <th>Dolar Oficial</th>\n",
       "      <th>Ingresos usd</th>\n",
       "    </tr>\n",
       "  </thead>\n",
       "  <tbody>\n",
       "    <tr>\n",
       "      <th>0</th>\n",
       "      <td>2022</td>\n",
       "      <td>3</td>\n",
       "      <td>67055930</td>\n",
       "      <td>Jul-Sept 2022</td>\n",
       "      <td>141</td>\n",
       "      <td>473275</td>\n",
       "    </tr>\n",
       "    <tr>\n",
       "      <th>1</th>\n",
       "      <td>2022</td>\n",
       "      <td>2</td>\n",
       "      <td>60335724</td>\n",
       "      <td>Abr-Jun 2022</td>\n",
       "      <td>122</td>\n",
       "      <td>490808</td>\n",
       "    </tr>\n",
       "    <tr>\n",
       "      <th>2</th>\n",
       "      <td>2022</td>\n",
       "      <td>1</td>\n",
       "      <td>55589997</td>\n",
       "      <td>Ene-Mar 2022</td>\n",
       "      <td>111</td>\n",
       "      <td>497759</td>\n",
       "    </tr>\n",
       "    <tr>\n",
       "      <th>3</th>\n",
       "      <td>2021</td>\n",
       "      <td>4</td>\n",
       "      <td>45467887</td>\n",
       "      <td>Oct-Dic 2021</td>\n",
       "      <td>105</td>\n",
       "      <td>430465</td>\n",
       "    </tr>\n",
       "    <tr>\n",
       "      <th>4</th>\n",
       "      <td>2021</td>\n",
       "      <td>3</td>\n",
       "      <td>42999944</td>\n",
       "      <td>Jul-Sept 2021</td>\n",
       "      <td>102</td>\n",
       "      <td>420269</td>\n",
       "    </tr>\n",
       "  </tbody>\n",
       "</table>\n",
       "</div>"
      ],
      "text/plain": [
       "    Año Trimestre  Ingresos (miles de pesos)        Periodo  Dolar Oficial  \\\n",
       "0  2022         3                   67055930  Jul-Sept 2022            141   \n",
       "1  2022         2                   60335724   Abr-Jun 2022            122   \n",
       "2  2022         1                   55589997   Ene-Mar 2022            111   \n",
       "3  2021         4                   45467887   Oct-Dic 2021            105   \n",
       "4  2021         3                   42999944  Jul-Sept 2021            102   \n",
       "\n",
       "   Ingresos usd  \n",
       "0        473275  \n",
       "1        490808  \n",
       "2        497759  \n",
       "3        430465  \n",
       "4        420269  "
      ]
     },
     "execution_count": 50,
     "metadata": {},
     "output_type": "execute_result"
    }
   ],
   "source": [
    "ingresosIF.head()"
   ]
  },
  {
   "cell_type": "markdown",
   "metadata": {},
   "source": [
    "**Guardamos el nuevo dataset en un CSV.**"
   ]
  },
  {
   "cell_type": "code",
   "execution_count": 51,
   "metadata": {},
   "outputs": [],
   "source": [
    "ingresosIF.to_csv('Datasets_clean/Ingresos_Internet.csv', index=False)"
   ]
  }
 ],
 "metadata": {
  "kernelspec": {
   "display_name": "Python 3",
   "language": "python",
   "name": "python3"
  },
  "language_info": {
   "codemirror_mode": {
    "name": "ipython",
    "version": 3
   },
   "file_extension": ".py",
   "mimetype": "text/x-python",
   "name": "python",
   "nbconvert_exporter": "python",
   "pygments_lexer": "ipython3",
   "version": "3.11.3"
  },
  "orig_nbformat": 4
 },
 "nbformat": 4,
 "nbformat_minor": 2
}
